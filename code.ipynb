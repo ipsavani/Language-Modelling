{
 "cells": [
  {
   "cell_type": "code",
   "execution_count": 1,
   "metadata": {},
   "outputs": [],
   "source": [
    "from collections import defaultdict\n",
    "import re\n",
    "from tqdm.notebook import tqdm\n",
    "import math\n",
    "import matplotlib.pyplot as plt\n",
    "import numpy as np\n",
    "import random"
   ]
  },
  {
   "cell_type": "code",
   "execution_count": 2,
   "metadata": {},
   "outputs": [],
   "source": [
    "# read data files\n",
    "ted_texts = []\n",
    "with open('ted.txt', 'r') as fp:\n",
    "    for line in fp:\n",
    "        ted_texts.append(line)\n",
    "        \n",
    "reddit_texts = []\n",
    "with open('reddit.txt', 'r') as fp:\n",
    "    for line in fp:\n",
    "        reddit_texts.append(line)\n",
    "        \n",
    "test_news = []\n",
    "with open('test.news.txt', 'r') as fp:\n",
    "    for line in fp:\n",
    "        test_news.append(line)\n",
    "\n",
    "test_reddit = []\n",
    "with open('test.reddit.txt', 'r') as fp:\n",
    "    for line in fp:\n",
    "        test_reddit.append(line)\n",
    "\n",
    "test_ted = []\n",
    "with open('test.ted.txt', 'r') as fp:\n",
    "    for line in fp:\n",
    "        test_ted.append(line)"
   ]
  },
  {
   "cell_type": "code",
   "execution_count": 3,
   "metadata": {},
   "outputs": [],
   "source": [
    "class Preprocesser(object):\n",
    "    def __init__(self,ms = True):\n",
    "        self.ms = ms\n",
    "    \n",
    "    def apply(self, text):\n",
    "        # text to lower case\n",
    "        text = text.lower()\n",
    "        # merge multiple spaces to single space\n",
    "        if self.ms:\n",
    "            text = re.sub(r'\\s+', ' ', text) \n",
    "        # tokenize text\n",
    "        doc = text.split()\n",
    "        tokens = [token for token in doc]\n",
    "        return tokens\n",
    "    \n",
    "preprocesser = Preprocesser()\n"
   ]
  },
  {
   "cell_type": "code",
   "execution_count": 4,
   "metadata": {},
   "outputs": [],
   "source": [
    "class NGram(object):\n",
    "    \n",
    "    def __init__(self,n=1):\n",
    "        # ngram number\n",
    "        self.n_num = n\n",
    "        self.history = defaultdict(lambda: 0) # dictionary with counts of n-1 grams\n",
    "        self.ngram_count = defaultdict(lambda: 0) # dictionary with counts of n grams\n",
    "        self.vocab = {} # vocabulary\n",
    "        self.total_count = 0 # total count of all words\n",
    "        self.uni_prob = False # boolean to toggle uniform probability\n",
    "        self.laplace_smoothing = False # boolean to toggle laplace smoothing\n",
    "      \n",
    "    def fit(self, texts):\n",
    "        ''' fits data to model'''\n",
    "        if not self.n_num == 1:\n",
    "            self._history_count(texts)\n",
    "        self._ngram_count(texts)\n",
    "\n",
    "    def _history_count(self, texts):\n",
    "        ''' this function counts frequencies for n-1 grams in the training data\n",
    "            input: list of texts\n",
    "        '''\n",
    "        for text in texts:\n",
    "            # tokenize text\n",
    "            tokens = preprocesser.apply(text)\n",
    "            # pad tokens with start of sentence token\n",
    "            for _ in range(self.n_num-1):\n",
    "                tokens.insert(0,'<s>')\n",
    "            # loop through text tokens to store n-1 grams with count in history\n",
    "            for i,tok in enumerate(tokens):\n",
    "                if i<len(tokens)-self.n_num+2:\n",
    "                    w = ''\n",
    "                    # convert n-1 gram tokens to history string\n",
    "                    for k in range(self.n_num-1):\n",
    "                        w = w + ' ' + tokens[i+k]\n",
    "                    self.history[w.strip()]+=1\n",
    "    \n",
    "    def _ngram_count(self, texts):\n",
    "        ''' this function counts frequencies for n grams in the training data\n",
    "            input: list of texts\n",
    "        '''\n",
    "        for text in texts:\n",
    "            # tokenize text\n",
    "            tokens = preprocesser.apply(text)\n",
    "            # pad tokens with start of sentence token\n",
    "            for _ in range(self.n_num-1):\n",
    "                tokens.insert(0,'<s>')\n",
    "            # loop through text tokens to store n grams with count in history\n",
    "            for i,tok in enumerate(tokens):\n",
    "                if i<len(tokens)-self.n_num+1:\n",
    "                    w = ''\n",
    "                    # convert ngram tokens to ngram string\n",
    "                    for k in range(self.n_num):\n",
    "                        w = w + ' ' + tokens[i+k]\n",
    "                    self.ngram_count[w.strip()]+=1\n",
    "                self.vocab[tok]=1\n",
    "        \n",
    "        # calculate total count of all frequencies\n",
    "        if self.n_num == 1:\n",
    "            self.total_count = sum(list(self.ngram_count.values()))\n",
    "        else:\n",
    "            self.total_count = sum(list(self.vocab.values())[1:])\n",
    "        \n",
    "    def probability(self, ngrams):\n",
    "        ''' This funciton calculates the probability of ngram\n",
    "            input : ngram tokens\n",
    "            output : probability\n",
    "        '''\n",
    "        prob = 0.\n",
    "        # probability for n = 1\n",
    "        if self.n_num==1 and self.laplace_smoothing==False:\n",
    "            if self.uni_prob == False:\n",
    "                # relative frequencies\n",
    "                prob = self.ngram_count[ngrams[0]]/self.total_count\n",
    "                # if word is out of vocabulary assign lowest probability\n",
    "                if prob==0:\n",
    "                    prob=1/self.total_count\n",
    "            else:\n",
    "                # uniform probability\n",
    "                prob = 1/self.total_count\n",
    "            return prob\n",
    "\n",
    "        # probability with laplace smoothing for n = 1\n",
    "        if self.n_num==1 and self.laplace_smoothing==True:\n",
    "            prob = (self.ngram_count[ngrams[0]]+1)/(self.total_count+len(self.vocab))\n",
    "            return prob\n",
    "        \n",
    "        # convert tokens to ngram strings\n",
    "        ngram = ''\n",
    "        hist = ''\n",
    "        for i,word in enumerate(ngrams):\n",
    "            ngram += ' ' + word\n",
    "            if i<len(ngrams)-1:\n",
    "                hist += ' ' + word\n",
    "        \n",
    "        if not(self.n_num==1):\n",
    "            # probability without laplace smoothing\n",
    "            if self.laplace_smoothing==False:\n",
    "                if self.history[hist.strip()]==0 or self.ngram_count[ngram.strip()]==0:\n",
    "                    # skip if ngram or history dont exist\n",
    "                    return 1\n",
    "                else:\n",
    "                    # pr = count(Wn)/Count(Wn-1)\n",
    "                    prob = self.ngram_count[ngram.strip()]/self.history[hist.strip()]\n",
    "            else:\n",
    "            # probability with laplace smoothing\n",
    "                if self.history[hist.strip()]==0:\n",
    "                    return 1\n",
    "                else:\n",
    "                    # laplace smoothed prob = count(wn)+1 / count(wn-1) + V where V is vocab size\n",
    "                    prob = (self.ngram_count[ngram.strip()]+1)/(self.history[hist.strip()]+(len(self.vocab)))\n",
    "        return prob\n",
    "\n",
    "    def perplexity(self, texts):\n",
    "        ''' This function calculates average perplexity of all input sentences\n",
    "            input : list of sentences\n",
    "        '''\n",
    "\n",
    "        sent_perp_list =[] # stores perplexity of a sentence\n",
    "        for text in texts:\n",
    "            perp = 1.\n",
    "            len_sentence = 0\n",
    "            logsum=0\n",
    "            # tokenize text\n",
    "            tokens = preprocesser.apply(text)\n",
    "            # if empty text skip\n",
    "            if len(tokens)==0:\n",
    "                continue\n",
    "            len_sentence = len(tokens)\n",
    "            # pad tokens\n",
    "            for _ in range(self.n_num-1):\n",
    "                tokens.insert(0,'<s>')\n",
    "            i=0\n",
    "            # calculate probability of each n-gram sequence in sentence\n",
    "            while i < (len(tokens) - self.n_num + 1):\n",
    "                p = self.probability(tokens[i:i+self.n_num])\n",
    "                logsum += math.log(p)\n",
    "                i+=1\n",
    "            # calculate perplexity\n",
    "            perp = math.exp((-1/len_sentence)*logsum)\n",
    "            # add to list of perplexities\n",
    "            sent_perp_list.append(perp)\n",
    "        # average perplexity of all sentences\n",
    "        avg_perp = sum(sent_perp_list)/len(sent_perp_list)\n",
    "\n",
    "        return avg_perp\n",
    "    \n",
    "    \n",
    "    def predict(self, w):\n",
    "        ''' this function gives next word given an input sequence of n-1 grams\n",
    "        '''\n",
    "        w_next = None # next word\n",
    "        max_p = 0\n",
    "            \n",
    "        # loop through each word in vocab\n",
    "        for word in list(self.vocab.keys())[1:]:\n",
    "            his = w.copy()\n",
    "            # append candidate word to history\n",
    "            his.append(word)\n",
    "            # calculate n-gram probabilty\n",
    "            p = self.probability(his)\n",
    "            # check if prob is max, assign candidate as next word\n",
    "            if p>max_p and not p==1:\n",
    "                max_p=p\n",
    "                w_next=word\n",
    "        # if no word predicted assign full stop as next word\n",
    "        if w_next==None:\n",
    "            w_next = '.'\n",
    "\n",
    "        return w_next"
   ]
  },
  {
   "cell_type": "markdown",
   "metadata": {},
   "source": [
    "### Part 1"
   ]
  },
  {
   "cell_type": "code",
   "execution_count": 5,
   "metadata": {},
   "outputs": [
    {
     "name": "stdout",
     "output_type": "stream",
     "text": [
      "The perplexity of OneGram with Uniform Probability on reddit test is: 4751625.0000\n",
      "The perplexity of OneGram with Uniform Probability on ted test is: 4751625.0000\n",
      "The perplexity of OneGram with Uniform Probability on news test is: 4751625.0000\n"
     ]
    }
   ],
   "source": [
    "# one gram language model using uniform probabilty\n",
    "one_gram = NGram(1)\n",
    "one_gram.uni_prob=True\n",
    "one_gram.fit(ted_texts)\n",
    "# perplexity scores\n",
    "onegram_perp_red = one_gram.perplexity(test_reddit)\n",
    "onegram_perp_ted = one_gram.perplexity(test_ted)\n",
    "onegram_perp_news = one_gram.perplexity(test_news)\n",
    "\n",
    "print(f'The perplexity of OneGram with Uniform Probability on reddit test is: {onegram_perp_red:.4f}')\n",
    "print(f'The perplexity of OneGram with Uniform Probability on ted test is: {onegram_perp_ted:.4f}')\n",
    "print(f'The perplexity of OneGram with Uniform Probability on news test is: {onegram_perp_news:.4f}')\n"
   ]
  },
  {
   "cell_type": "markdown",
   "metadata": {},
   "source": [
    "### Part 2"
   ]
  },
  {
   "cell_type": "code",
   "execution_count": 6,
   "metadata": {},
   "outputs": [
    {
     "name": "stdout",
     "output_type": "stream",
     "text": [
      "The perplexity of OneGram with relative Probability on reddit test is: 7857.2820\n",
      "The perplexity of OneGram with relative Probability on ted test is: 868.7476\n",
      "The perplexity of OneGram with relative Probability on news test is: 9329.2428\n"
     ]
    }
   ],
   "source": [
    "\n",
    "# switch to relative frequencies as probability\n",
    "one_gram.uni_prob=False\n",
    "# perplexity scores\n",
    "onegram_perp_red = one_gram.perplexity(test_reddit)\n",
    "onegram_perp_ted = one_gram.perplexity(test_ted)\n",
    "onegram_perp_news = one_gram.perplexity(test_news)\n",
    "\n",
    "print(f'The perplexity of OneGram with relative Probability on reddit test is: {onegram_perp_red:.4f}')\n",
    "print(f'The perplexity of OneGram with relative Probability on ted test is: {onegram_perp_ted:.4f}')\n",
    "print(f'The perplexity of OneGram with relative Probability on news test is: {onegram_perp_news:.4f}')\n"
   ]
  },
  {
   "cell_type": "markdown",
   "metadata": {},
   "source": [
    "### Part 3"
   ]
  },
  {
   "cell_type": "code",
   "execution_count": 7,
   "metadata": {},
   "outputs": [
    {
     "data": {
      "image/png": "[encoded data removed]",
      "text/plain": [
       "<Figure size 432x288 with 1 Axes>"
      ]
     },
     "metadata": {
      "needs_background": "light"
     },
     "output_type": "display_data"
    }
   ],
   "source": [
    "# generate ngram models from n = 1 to 7  without laplace smoothing and calculate perplexities\n",
    "perp_list_ted = []\n",
    "perp_list_reddit = []\n",
    "for n in range(7):\n",
    "    perp_ted = []\n",
    "    perp_reddit = []\n",
    "    ngram_ted = NGram(n+1)\n",
    "    # fit data\n",
    "    ngram_ted.fit(ted_texts)\n",
    "    ngram_reddit = NGram(n+1)\n",
    "    # fit data\n",
    "    ngram_reddit.fit(reddit_texts)\n",
    "    perp_ted.append(ngram_ted.perplexity(test_reddit))\n",
    "    perp_ted.append(ngram_ted.perplexity(test_ted))\n",
    "    perp_ted.append(ngram_ted.perplexity(test_news))\n",
    "    perp_list_ted.append(perp_ted)\n",
    "    perp_reddit.append(ngram_reddit.perplexity(test_reddit))\n",
    "    perp_reddit.append(ngram_reddit.perplexity(test_ted))\n",
    "    perp_reddit.append(ngram_reddit.perplexity(test_news))\n",
    "    perp_list_reddit.append(perp_reddit)\n",
    "\n",
    "pr = np.array(perp_list_reddit)\n",
    "pt = np.array(perp_list_ted)\n",
    "plt.plot(np.arange(1,8).T,pt.T[0],label='test.reddit perplexity on ngram ted.txt')\n",
    "plt.plot(np.arange(1,8).T,pt.T[1],label='test.ted perplexity on ngram ted.txt')\n",
    "plt.plot(np.arange(1,8).T,pt.T[2],label='test.news perplexity on ngram ted.txt')\n",
    "\n",
    "plt.plot(np.arange(1,8).T,pr.T[0],label='test.reddit perplexity on ngram reddit.txt')\n",
    "plt.plot(np.arange(1,8).T,pr.T[1],label='test.ted perplexity on ngram reddit.txt')\n",
    "plt.plot(np.arange(1,8).T,pr.T[2],label='test.news perplexity on ngram reddit.txt')\n",
    "\n",
    "plt.legend()\n",
    "plt.title('perplexities')\n",
    "plt.show()\n",
    "    \n",
    "    "
   ]
  },
  {
   "cell_type": "markdown",
   "metadata": {},
   "source": [
    "### Part 4"
   ]
  },
  {
   "cell_type": "code",
   "execution_count": 8,
   "metadata": {},
   "outputs": [
    {
     "data": {
      "image/png": "[encoded data removed]",
      "text/plain": [
       "<Figure size 432x288 with 1 Axes>"
      ]
     },
     "metadata": {
      "needs_background": "light"
     },
     "output_type": "display_data"
    }
   ],
   "source": [
    "# generate ngram models from n = 1 to 7  with laplace smoothing and calculate perplexities\n",
    "perp_list_ted = []\n",
    "perp_list_reddit = []\n",
    "for n in range(7):\n",
    "    perp_ted = []\n",
    "    perp_reddit = []\n",
    "    ngram_ted = NGram(n+1)\n",
    "    ngram_ted.laplace_smoothing=True\n",
    "    ngram_ted.fit(ted_texts)\n",
    "    ngram_reddit = NGram(n+1)\n",
    "    ngram_reddit.laplace_smoothing=True\n",
    "    ngram_reddit.fit(reddit_texts)\n",
    "    perp_ted.append(ngram_ted.perplexity(test_reddit))\n",
    "    perp_ted.append(ngram_ted.perplexity(test_ted))\n",
    "    perp_ted.append(ngram_ted.perplexity(test_news))\n",
    "    perp_list_ted.append(perp_ted)\n",
    "    perp_reddit.append(ngram_reddit.perplexity(test_reddit))\n",
    "    perp_reddit.append(ngram_reddit.perplexity(test_ted))\n",
    "    perp_reddit.append(ngram_reddit.perplexity(test_news))\n",
    "    perp_list_reddit.append(perp_reddit)\n",
    "\n",
    "pr = np.array(perp_list_reddit)\n",
    "pt = np.array(perp_list_ted)\n",
    "plt.plot(np.arange(1,8).T,pt.T[0],label='test.reddit perplexity on ngram ted.txt')\n",
    "plt.plot(np.arange(1,8).T,pt.T[1],label='test.ted perplexity on ngram ted.txt')\n",
    "plt.plot(np.arange(1,8).T,pt.T[2],label='test.news perplexity on ngram ted.txt')\n",
    "\n",
    "plt.plot(np.arange(1,8).T,pr.T[0],label='test.reddit perplexity on ngram reddit.txt')\n",
    "plt.plot(np.arange(1,8).T,pr.T[1],label='test.ted perplexity on ngram reddit.txt')\n",
    "plt.plot(np.arange(1,8).T,pr.T[2],label='test.news perplexity on ngram reddit.txt')\n",
    "\n",
    "plt.legend()\n",
    "plt.title('perplexities')\n",
    "plt.show()\n",
    "    \n",
    "    "
   ]
  },
  {
   "cell_type": "code",
   "execution_count": 9,
   "metadata": {},
   "outputs": [],
   "source": [
    "# least in-domain perp for ted.txt is at n = 5\n",
    "\n",
    "# least in-domain perp for reddit.txt is at n = 4"
   ]
  },
  {
   "cell_type": "markdown",
   "metadata": {},
   "source": [
    "### Part 5"
   ]
  },
  {
   "cell_type": "code",
   "execution_count": 10,
   "metadata": {},
   "outputs": [
    {
     "data": {
      "application/vnd.jupyter.widget-view+json": {
       "model_id": "685d0237a53f450585e7b823da2c109a",
       "version_major": 2,
       "version_minor": 0
      },
      "text/plain": [
       "  0%|          | 0/500 [00:00<?, ?it/s]"
      ]
     },
     "metadata": {},
     "output_type": "display_data"
    },
    {
     "name": "stdout",
     "output_type": "stream",
     "text": [
      "and i think that 's a really important thing . that should be making a major contribution are instead seen as part of the work , the quality of the work , the quality of the work , the quality of the work , the quality of the work , the quality of the work , the quality of the work , the quality of the work , the quality of the work , the quality of the work , the quality of the work , the quality of the work , the quality of the work , the quality of the work , the quality of the work , the quality of the work , the quality of the work , the quality of the work , the quality of the work , the quality of the work , the quality of the work , the quality of the work , the quality of the work , the quality of the work , the quality of the work , the quality of the work , the quality of the work , the quality of the work , the quality of the work , the quality of the work , the quality of the work , the quality of the work , the quality of the work , the quality of the work , the quality of the work , the quality of the work , the quality of the work , the quality of the work , the quality of the work , the quality of the work , the quality of the work , the quality of the work , the quality of the work , the quality of the work , the quality of the work , the quality of the work , the quality of the work , the quality of the work , the quality of the work , the quality of the work , the quality of the work , the quality of the work , the quality of the work , the quality of the work , the quality of the work , the quality of the work , the quality of the work , the quality of the work , the quality of the work , the quality of the work , the quality of the work , the quality of the work , the quality of the work , the quality of the work , the quality of the work , the quality of the work , the quality of the work , the quality of the work , the quality of the work , the quality of the work , the quality of the work , the quality of the work , the quality of the work , the quality of the work , the quality of the work , the quality of the work , the quality of the work , the quality of the work , the quality of the work , the quality of the work , \n"
     ]
    }
   ],
   "source": [
    "# 5gram model for ted.txt\n",
    "tedgram = NGram(5)\n",
    "tedgram.fit(ted_texts)\n",
    "tedgram.laplace_smoothing=True\n",
    "# first input sequence\n",
    "teds = ['<s>']*4\n",
    "\n",
    "# 4gram model for reddit.txt\n",
    "redgram = NGram(4)\n",
    "redgram.fit(reddit_texts)\n",
    "redgram.laplace_smoothing=True\n",
    "# first input sequence\n",
    "reds = ['<s>']*3\n",
    "\n",
    "teddoc = ''\n",
    "reddoc = ''\n",
    "for i in tqdm(range(500)):\n",
    "    # predict next word\n",
    "    tednext = tedgram.predict(teds)\n",
    "    rednext = redgram.predict(reds)\n",
    "    # add next word and remove previous first word\n",
    "    teds.pop(0)\n",
    "    teds.append(tednext)\n",
    "\n",
    "    reds.pop(0)\n",
    "    reds.append(rednext)\n",
    "\n",
    "    # generate doc\n",
    "    teddoc = teddoc + tednext + ' '\n",
    "    reddoc = reddoc + rednext + ' '\n",
    "\n",
    "    # if end of sentence is predicted begin new sequence\n",
    "    if tednext == '.' :\n",
    "        strteds = tednext\n",
    "        while not strteds.split()[0]=='<s>':\n",
    "            strteds = random.choice(list(tedgram.history.keys()))\n",
    "        teds = strteds.split()\n",
    "\n",
    "    if rednext == '.' :\n",
    "        strreds = rednext\n",
    "        while not strreds.split()[0] == '<s>':\n",
    "            strreds = random.choice(list(redgram.history.keys()))\n",
    "        reds = strreds.split()\n",
    "\n",
    "print(teddoc)\n",
    "\n",
    "    "
   ]
  },
  {
   "cell_type": "code",
   "execution_count": 11,
   "metadata": {},
   "outputs": [
    {
     "name": "stdout",
     "output_type": "stream",
     "text": [
      "i ’ m not sure what to tell you that . back from ossi for summer 2018 or in past ? < . thursday 03/29/18 i have my baby tok . it may , there * is * a cluster b personality disorders . are in your top 4 ? < . figured it could be asserting his marital rights . message about future games wtf did you start calling your partners parents your in laws ? < . ( 45 ) watched male entertainers / strip show and i ’ m not sure what to tell you that . yeah we used to but very few pots . - 27 march 2018 - no question too small ! 1 ) delete the alexa skill and any redundant smart devices located in your smart section . supporters burst into tears as they are in the box ! < . brain of a /pol/yp yeah . . extended to april 10th ! < . remember , and please fact check me on this . banned for cheating ? < . of the day - * subgenre : new weird - fifth row across : * any r/fantasy goodreads group book of the month - * format : graphic novel ( at least one volume ) or audiobook - sandman neil gaiman * novel featuring time travel -time 's edge rysa walker * a novel published in 2017 -arhanghelul raul ovidiu eftimie * an author 's debut fantasy novel -harry potter and the sorcerer 's stone jk rowling second row across : * any r/fantasy goodreads group book of the month - * format : graphic novel ( at least one volume ) or audiobook - sandman neil gaiman * novel featuring time travel -time 's edge rysa walker * a novel published in 2017 -arhanghelul raul ovidiu eftimie * an author 's debut fantasy novel -harry potter and the sorcerer 's stone jk rowling second row across : * any r/fantasy goodreads group book of the month - * format : graphic novel ( at least one volume ) or audiobook - sandman neil gaiman * novel featuring time travel -time 's edge rysa walker * a novel published in 2017 -arhanghelul raul ovidiu eftimie * an author 's debut fantasy novel -harry potter and the sorcerer 's stone jk rowling second row across : * any r/fantasy goodreads group book of the month - * format : graphic novel ( at least one volume ) or audiobook - sandman neil gaiman * novel featuring time travel -time 's edge rysa walker * a novel published in 2017 -arhanghelul raul ovidiu eftimie * an author 's debut fantasy novel -harry potter and the sorcerer 's stone jk rowling second row across : * any r/fantasy goodreads group book of the month - * format : graphic novel ( at least one volume ) or audiobook - sandman neil gaiman * novel featuring time travel -time 's edge rysa walker * a \n"
     ]
    }
   ],
   "source": [
    "print(reddoc)"
   ]
  },
  {
   "cell_type": "code",
   "execution_count": 12,
   "metadata": {},
   "outputs": [
    {
     "name": "stdout",
     "output_type": "stream",
     "text": [
      "Perplexity for ted.out :  145095.2876676645\n",
      "Perplexity for reddit.out :  35586.63555848302\n"
     ]
    }
   ],
   "source": [
    "print('Perplexity for ted.out : ' , tedgram.perplexity(teddoc))\n",
    "print('Perplexity for reddit.out : ' , redgram.perplexity(reddoc))"
   ]
  },
  {
   "cell_type": "code",
   "execution_count": 13,
   "metadata": {},
   "outputs": [],
   "source": [
    "import codecs\n",
    "tedout = codecs.open('ted.out','w',encoding='utf-8')\n",
    "tedout.write(teddoc)\n",
    "tedout.close()\n",
    "\n",
    "redout = codecs.open('red.out','w',encoding='utf-8')\n",
    "redout.write(teddoc)\n",
    "redout.close()"
   ]
  }
 ],
 "metadata": {
  "interpreter": {
   "hash": "af2ae0b2d1afef30729054acd7884eecb75ec13e978a0196b5f9b32b71a04819"
  },
  "kernelspec": {
   "display_name": "mllibs",
   "language": "python",
   "name": "mllibs"
  },
  "language_info": {
   "codemirror_mode": {
    "name": "ipython",
    "version": 3
   },
   "file_extension": ".py",
   "mimetype": "text/x-python",
   "name": "python",
   "nbconvert_exporter": "python",
   "pygments_lexer": "ipython3",
   "version": "3.9.7"
  },
  "orig_nbformat": 4
 },
 "nbformat": 4,
 "nbformat_minor": 2
}
